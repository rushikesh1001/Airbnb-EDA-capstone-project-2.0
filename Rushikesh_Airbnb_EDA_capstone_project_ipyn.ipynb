{
  "cells": [
    {
      "cell_type": "markdown",
      "metadata": {
        "id": "view-in-github",
        "colab_type": "text"
      },
      "source": [
        "<a href=\"https://colab.research.google.com/github/rushikesh1001/Airbnb-EDA-capstone-project-2.0/blob/main/Rushikesh_Airbnb_EDA_capstone_project_ipyn.ipynb\" target=\"_parent\"><img src=\"https://colab.research.google.com/assets/colab-badge.svg\" alt=\"Open In Colab\"/></a>"
      ]
    },
    {
      "cell_type": "markdown",
      "source": [
        "# **Project Name**    -\n",
        "\n",
        "Airbnb EDA capstone project\n"
      ],
      "metadata": {
        "id": "mkA58D0EBnFd"
      }
    },
    {
      "cell_type": "markdown",
      "metadata": {
        "id": "beRrZCGUAJYm"
      },
      "source": [
        "##### **Project Type**    - EDA\n",
        "##### **Contribution**  :-Team \n",
        "##### **Team Member 1 -**Vikas Mishra\n",
        "##### **Team Member 2 -**Ajay Dubey\n",
        "\n",
        "##### **Team Member 3 -**Rushikesh Bade\n",
        "##### **Team Member 4 -**Nayan Kumar Morya\n",
        "##### **Team Member 5 -**Kamini Tiwari"
      ]
    },
    {
      "cell_type": "markdown",
      "metadata": {
        "id": "F6v_1wHtG2nS"
      },
      "source": [
        "SUMMARY\n",
        "\n",
        "AirBnb Bookings Analysis project was done by group of 5 members – Vikas Mishra, Ajay Dubey, Rushikesh Bade, Nayan Kumar Morya, Kamini Tiwari. In this project we got one csv file as input. The csv file having large amont of data with lots of rows and columns.\n",
        "\n",
        "So, we decided to divide these csv files among 5 and start exploring datasets.\n",
        "\n",
        "We first decided to take up this project solely due to our mutual interest in our first AirBnb Bookings Analysis project. But when we downloaded the project we were shocked to see single csv file having large amont of datasets with lots of rows and also columns. We have no idea what to do with them, from where to start. Then we decided to divide the csv files among us(5 members) and first work individually gaining insights doing some exploratory data analysis. Then we all gain some confidence. The very first problem that we faced in our csv was that in the understanding of meaning of different columns. We started with looking at each database available to us for the booking analysis project. We went through various columns available to us. And then we all started working on the datasets. Some of the key findings were:\n",
        "\n",
        " 1) We can easily get to know that the most popular neighbourhood_groups are Manhattan and Brooklyn.\n",
        "2) We can see that most occupied room_types are entired home/apt &private room and comparatively shared rooms to be very low.\n",
        "3) The median availability of properties in Brooklyn and Manhattan is higher than in the other neighbourhoods.\n",
        "4) There is a higher concentration of listings in Manhattan compared to other neighbourhoods.\n",
        "5) The insights found from the chart is that the neighbourhood group with the highest mean Airbnb listing price is Manhattan, followed by Brooklyn, Queens, Bronx and Staten Islands. This indicates that Manhattan is the most expensive neighbourhood group to stay in, while Staten Island is the least expensive.\n",
        "\n",
        "At the end, we also tried to make certain tables which can make help in making real-time decisions such as minimum number of nights required for rentals can help create a positive business impact. For example, if the majority of listings have a minimum stay requirement of 7 nights or more, a property owner or manager may want to consider offering shorter stay to attracts more potential renter and increase occupancy rates. Additionally, understanding the range of minimum stay requirement in the area can help property owners and managers set competitive rates and attract renters who are looking for specific stay lengths.\n",
        "\n",
        "It is also important for Airbnb to stay abreast of industry trends and regulations in order to adapt and compete effectively. They will also need to ensure that their platform is secure and reliable for all users and to maintain a good reputation in the industry.  \n",
        "\n",
        "\n"
      ]
    },
    {
      "cell_type": "markdown",
      "metadata": {
        "id": "w6K7xa23Elo4"
      },
      "source": [
        "# **GitHub Link -**"
      ]
    },
    {
      "cell_type": "markdown",
      "metadata": {
        "id": "h1o69JH3Eqqn"
      },
      "source": [
        "https://github.com/rushikesh1001/Airbnb-EDA-capstone-project-2.0.git"
      ]
    },
    {
      "cell_type": "markdown",
      "metadata": {
        "id": "yQaldy8SH6Dl"
      },
      "source": [
        "# **Problem Statement**\n"
      ]
    },
    {
      "cell_type": "markdown",
      "metadata": {
        "id": "DpeJGUA3kjGy"
      },
      "source": [
        "The problem statement for an Airbnb project could be: \"How can we improve the user experience for both hosts and guests on the Airbnb platform, while also addressing concerns about regulation and competition in the short-term rental market?\"\n",
        "\n",
        "Some specific goals that could be addressed in this project include:\n",
        "\n",
        "Improving the search and booking process for guests, making it easier for them to find and book a suitable property.\n",
        "Enhancing the communication and management tools for hosts, allowing them to more easily manage their listings and interact with guests.\n",
        "Developing strategies for addressing regulatory challenges, such as zoning laws and taxes, in order to maintain compliance and avoid legal issues.\n",
        "Identifying ways to differentiate Airbnb from competitors and maintain its competitive edge in the short-term rental market.\n",
        "Identifying ways to improve the overall guest experience, such as providing more detailed information about properties, providing more flexibility for booking and check-in/check-out times, and offering concierge services"
      ]
    },
    {
      "cell_type": "markdown",
      "metadata": {
        "id": "PH-0ReGfmX4f"
      },
      "source": [
        "#### **Define Business Objective?**"
      ]
    },
    {
      "cell_type": "markdown",
      "metadata": {
        "id": "PhDvGCAqmjP1"
      },
      "source": [
        "The business objective of an Airbnb EDA (Exploratory Data Analysis) project would be to analyze and understand the data of Airbnb listings and bookings in order to gain insights that can inform business decisions and strategies. This could include identifying key trends and patterns in the data, such as the most popular locations and types of properties, as well as understanding factors that influence booking rates and pricing. Other objectives may include identifying areas for improvement in the Airbnb platform, such as user experience or customer service, and identifying opportunities for growth and expansion. Ultimately, the goal of an Airbnb EDA project would be to use data to inform decisions that can help grow and improve the business."
      ]
    },
    {
      "cell_type": "markdown",
      "metadata": {
        "id": "mDgbUHAGgjLW"
      },
      "source": [
        "# **General Guidelines** : -  "
      ]
    },
    {
      "cell_type": "markdown",
      "metadata": {
        "id": "ZrxVaUj-hHfC"
      },
      "source": [
        "1.   Well-structured, formatted, and commented code is required. \n",
        "2.   Exception Handling, Production Grade Code & Deployment Ready Code will be a plus. Those students will be awarded some additional credits. \n",
        "     \n",
        "     The additional credits will have advantages over other students during Star Student selection.\n",
        "       \n",
        "             [ Note: - Deployment Ready Code is defined as, the whole .ipynb notebook should be executable in one go\n",
        "                       without a single error logged. ]\n",
        "\n",
        "3.   Each and every logic should have proper comments.\n",
        "4. You may add as many number of charts you want. Make Sure for each and every chart the following format should be answered.\n",
        "        \n",
        "\n",
        "```\n",
        "# Chart visualization code\n",
        "```\n",
        "            \n",
        "\n",
        "*   Why did you pick the specific chart?\n",
        "*   What is/are the insight(s) found from the chart?\n",
        "* Will the gained insights help creating a positive business impact? \n",
        "Are there any insights that lead to negative growth? Justify with specific reason.\n",
        "\n",
        "5. You have to create at least 20 logical & meaningful charts having important insights.\n",
        "\n",
        "\n",
        "[ Hints : - Do the Vizualization in  a structured way while following \"UBM\" Rule. \n",
        "\n",
        "U - Univariate Analysis,\n",
        "\n",
        "B - Bivariate Analysis (Numerical - Categorical, Numerical - Numerical, Categorical - Categorical)\n",
        "\n",
        "M - Multivariate Analysis\n",
        " ]\n",
        "\n",
        "\n",
        "\n"
      ]
    },
    {
      "cell_type": "markdown",
      "metadata": {
        "id": "O_i_v8NEhb9l"
      },
      "source": [
        "# ***Let's Begin !***"
      ]
    },
    {
      "cell_type": "markdown",
      "metadata": {
        "id": "HhfV-JJviCcP"
      },
      "source": [
        "\n",
        "[link text](https://)## ***1. Know Your Data***"
      ]
    },
    {
      "cell_type": "markdown",
      "metadata": {
        "id": "Y3lxredqlCYt"
      },
      "source": [
        "### Import Libraries"
      ]
    },
    {
      "cell_type": "code",
      "execution_count": null,
      "metadata": {
        "id": "M8Vqi-pPk-HR"
      },
      "outputs": [],
      "source": [
        "# Import Libraries\n",
        "import numpy as np\n",
        "import pandas as pd\n",
        "import matplotlib.pyplot as plt\n",
        "import seaborn as sns"
      ]
    },
    {
      "cell_type": "markdown",
      "metadata": {
        "id": "3RnN4peoiCZX"
      },
      "source": [
        "### Dataset Loading"
      ]
    },
    {
      "cell_type": "code",
      "execution_count": null,
      "metadata": {
        "id": "4CkvbW_SlZ_R"
      },
      "outputs": [],
      "source": [
        "# Load Dataset\n",
        "df=pd.read_csv(\"/content/Airbnb NYC 2019.csv\")"
      ]
    },
    {
      "cell_type": "markdown",
      "metadata": {
        "id": "x71ZqKXriCWQ"
      },
      "source": [
        "### Dataset First View"
      ]
    },
    {
      "cell_type": "code",
      "execution_count": null,
      "metadata": {
        "colab": {
          "base_uri": "https://localhost:8080/",
          "height": 852
        },
        "id": "LWNFOSvLl09H",
        "outputId": "295d79d0-579a-40ef-ecf5-8d8fce37ea76"
      },
      "outputs": [
        {
          "data": {
            "text/html": [
              "\n",
              "  <div id=\"df-c943685d-96c8-4382-8cd6-870506863fb4\">\n",
              "    <div class=\"colab-df-container\">\n",
              "      <div>\n",
              "<style scoped>\n",
              "    .dataframe tbody tr th:only-of-type {\n",
              "        vertical-align: middle;\n",
              "    }\n",
              "\n",
              "    .dataframe tbody tr th {\n",
              "        vertical-align: top;\n",
              "    }\n",
              "\n",
              "    .dataframe thead th {\n",
              "        text-align: right;\n",
              "    }\n",
              "</style>\n",
              "<table border=\"1\" class=\"dataframe\">\n",
              "  <thead>\n",
              "    <tr style=\"text-align: right;\">\n",
              "      <th></th>\n",
              "      <th>id</th>\n",
              "      <th>name</th>\n",
              "      <th>host_id</th>\n",
              "      <th>host_name</th>\n",
              "      <th>neighbourhood_group</th>\n",
              "      <th>neighbourhood</th>\n",
              "      <th>latitude</th>\n",
              "      <th>longitude</th>\n",
              "      <th>room_type</th>\n",
              "      <th>price</th>\n",
              "      <th>minimum_nights</th>\n",
              "      <th>number_of_reviews</th>\n",
              "      <th>last_review</th>\n",
              "      <th>reviews_per_month</th>\n",
              "      <th>calculated_host_listings_count</th>\n",
              "      <th>availability_365</th>\n",
              "    </tr>\n",
              "  </thead>\n",
              "  <tbody>\n",
              "    <tr>\n",
              "      <th>0</th>\n",
              "      <td>2539</td>\n",
              "      <td>Clean &amp; quiet apt home by the park</td>\n",
              "      <td>2787</td>\n",
              "      <td>John</td>\n",
              "      <td>Brooklyn</td>\n",
              "      <td>Kensington</td>\n",
              "      <td>40.64749</td>\n",
              "      <td>-73.97237</td>\n",
              "      <td>Private room</td>\n",
              "      <td>149.0</td>\n",
              "      <td>1.0</td>\n",
              "      <td>9.0</td>\n",
              "      <td>2018-10-19</td>\n",
              "      <td>0.21</td>\n",
              "      <td>6.0</td>\n",
              "      <td>365.0</td>\n",
              "    </tr>\n",
              "    <tr>\n",
              "      <th>1</th>\n",
              "      <td>2595</td>\n",
              "      <td>Skylit Midtown Castle</td>\n",
              "      <td>2845</td>\n",
              "      <td>Jennifer</td>\n",
              "      <td>Manhattan</td>\n",
              "      <td>Midtown</td>\n",
              "      <td>40.75362</td>\n",
              "      <td>-73.98377</td>\n",
              "      <td>Entire home/apt</td>\n",
              "      <td>225.0</td>\n",
              "      <td>1.0</td>\n",
              "      <td>45.0</td>\n",
              "      <td>2019-05-21</td>\n",
              "      <td>0.38</td>\n",
              "      <td>2.0</td>\n",
              "      <td>355.0</td>\n",
              "    </tr>\n",
              "    <tr>\n",
              "      <th>2</th>\n",
              "      <td>3647</td>\n",
              "      <td>THE VILLAGE OF HARLEM....NEW YORK !</td>\n",
              "      <td>4632</td>\n",
              "      <td>Elisabeth</td>\n",
              "      <td>Manhattan</td>\n",
              "      <td>Harlem</td>\n",
              "      <td>40.80902</td>\n",
              "      <td>-73.94190</td>\n",
              "      <td>Private room</td>\n",
              "      <td>150.0</td>\n",
              "      <td>3.0</td>\n",
              "      <td>0.0</td>\n",
              "      <td>NaN</td>\n",
              "      <td>NaN</td>\n",
              "      <td>1.0</td>\n",
              "      <td>365.0</td>\n",
              "    </tr>\n",
              "    <tr>\n",
              "      <th>3</th>\n",
              "      <td>3831</td>\n",
              "      <td>Cozy Entire Floor of Brownstone</td>\n",
              "      <td>4869</td>\n",
              "      <td>LisaRoxanne</td>\n",
              "      <td>Brooklyn</td>\n",
              "      <td>Clinton Hill</td>\n",
              "      <td>40.68514</td>\n",
              "      <td>-73.95976</td>\n",
              "      <td>Entire home/apt</td>\n",
              "      <td>89.0</td>\n",
              "      <td>1.0</td>\n",
              "      <td>270.0</td>\n",
              "      <td>2019-07-05</td>\n",
              "      <td>4.64</td>\n",
              "      <td>1.0</td>\n",
              "      <td>194.0</td>\n",
              "    </tr>\n",
              "    <tr>\n",
              "      <th>4</th>\n",
              "      <td>5022</td>\n",
              "      <td>Entire Apt: Spacious Studio/Loft by central park</td>\n",
              "      <td>7192</td>\n",
              "      <td>Laura</td>\n",
              "      <td>Manhattan</td>\n",
              "      <td>East Harlem</td>\n",
              "      <td>40.79851</td>\n",
              "      <td>-73.94399</td>\n",
              "      <td>Entire home/apt</td>\n",
              "      <td>80.0</td>\n",
              "      <td>10.0</td>\n",
              "      <td>9.0</td>\n",
              "      <td>2018-11-19</td>\n",
              "      <td>0.10</td>\n",
              "      <td>1.0</td>\n",
              "      <td>0.0</td>\n",
              "    </tr>\n",
              "    <tr>\n",
              "      <th>...</th>\n",
              "      <td>...</td>\n",
              "      <td>...</td>\n",
              "      <td>...</td>\n",
              "      <td>...</td>\n",
              "      <td>...</td>\n",
              "      <td>...</td>\n",
              "      <td>...</td>\n",
              "      <td>...</td>\n",
              "      <td>...</td>\n",
              "      <td>...</td>\n",
              "      <td>...</td>\n",
              "      <td>...</td>\n",
              "      <td>...</td>\n",
              "      <td>...</td>\n",
              "      <td>...</td>\n",
              "      <td>...</td>\n",
              "    </tr>\n",
              "    <tr>\n",
              "      <th>7386</th>\n",
              "      <td>5476046</td>\n",
              "      <td>Large Duplex Near Subway! 5bdrm/2ba</td>\n",
              "      <td>10297692</td>\n",
              "      <td>Dee</td>\n",
              "      <td>Brooklyn</td>\n",
              "      <td>Crown Heights</td>\n",
              "      <td>40.67615</td>\n",
              "      <td>-73.92945</td>\n",
              "      <td>Entire home/apt</td>\n",
              "      <td>500.0</td>\n",
              "      <td>1.0</td>\n",
              "      <td>68.0</td>\n",
              "      <td>2019-04-27</td>\n",
              "      <td>1.41</td>\n",
              "      <td>2.0</td>\n",
              "      <td>313.0</td>\n",
              "    </tr>\n",
              "    <tr>\n",
              "      <th>7387</th>\n",
              "      <td>5476474</td>\n",
              "      <td>Amazing HK one bedroom apartment</td>\n",
              "      <td>20318406</td>\n",
              "      <td>Dimitriy</td>\n",
              "      <td>Manhattan</td>\n",
              "      <td>Hell's Kitchen</td>\n",
              "      <td>40.76571</td>\n",
              "      <td>-73.99482</td>\n",
              "      <td>Entire home/apt</td>\n",
              "      <td>120.0</td>\n",
              "      <td>1.0</td>\n",
              "      <td>12.0</td>\n",
              "      <td>2018-07-19</td>\n",
              "      <td>0.24</td>\n",
              "      <td>1.0</td>\n",
              "      <td>163.0</td>\n",
              "    </tr>\n",
              "    <tr>\n",
              "      <th>7388</th>\n",
              "      <td>5477034</td>\n",
              "      <td>Comfy room in Williamsburg Loft Apt</td>\n",
              "      <td>4687722</td>\n",
              "      <td>Mav</td>\n",
              "      <td>Brooklyn</td>\n",
              "      <td>Williamsburg</td>\n",
              "      <td>40.71538</td>\n",
              "      <td>-73.94527</td>\n",
              "      <td>Private room</td>\n",
              "      <td>85.0</td>\n",
              "      <td>1.0</td>\n",
              "      <td>0.0</td>\n",
              "      <td>NaN</td>\n",
              "      <td>NaN</td>\n",
              "      <td>1.0</td>\n",
              "      <td>0.0</td>\n",
              "    </tr>\n",
              "    <tr>\n",
              "      <th>7389</th>\n",
              "      <td>5477876</td>\n",
              "      <td>Stylish Greenpoint Gem</td>\n",
              "      <td>1506972</td>\n",
              "      <td>Vanessa &amp; Christian</td>\n",
              "      <td>Brooklyn</td>\n",
              "      <td>Greenpoint</td>\n",
              "      <td>40.73406</td>\n",
              "      <td>-73.95551</td>\n",
              "      <td>Entire home/apt</td>\n",
              "      <td>135.0</td>\n",
              "      <td>3.0</td>\n",
              "      <td>17.0</td>\n",
              "      <td>2019-06-08</td>\n",
              "      <td>0.32</td>\n",
              "      <td>1.0</td>\n",
              "      <td>8.0</td>\n",
              "    </tr>\n",
              "    <tr>\n",
              "      <th>7390</th>\n",
              "      <td>5478741</td>\n",
              "      <td>Garden, Walk to Empire State, B'way, Subway 2 ...</td>\n",
              "      <td>28411613</td>\n",
              "      <td>Marea</td>\n",
              "      <td>Manhattan</td>\n",
              "      <td>Midtown</td>\n",
              "      <td>40.74447</td>\n",
              "      <td>-7.00000</td>\n",
              "      <td>NaN</td>\n",
              "      <td>NaN</td>\n",
              "      <td>NaN</td>\n",
              "      <td>NaN</td>\n",
              "      <td>NaN</td>\n",
              "      <td>NaN</td>\n",
              "      <td>NaN</td>\n",
              "      <td>NaN</td>\n",
              "    </tr>\n",
              "  </tbody>\n",
              "</table>\n",
              "<p>7391 rows × 16 columns</p>\n",
              "</div>\n",
              "      <button class=\"colab-df-convert\" onclick=\"convertToInteractive('df-c943685d-96c8-4382-8cd6-870506863fb4')\"\n",
              "              title=\"Convert this dataframe to an interactive table.\"\n",
              "              style=\"display:none;\">\n",
              "        \n",
              "  <svg xmlns=\"http://www.w3.org/2000/svg\" height=\"24px\"viewBox=\"0 0 24 24\"\n",
              "       width=\"24px\">\n",
              "    <path d=\"M0 0h24v24H0V0z\" fill=\"none\"/>\n",
              "    <path d=\"M18.56 5.44l.94 2.06.94-2.06 2.06-.94-2.06-.94-.94-2.06-.94 2.06-2.06.94zm-11 1L8.5 8.5l.94-2.06 2.06-.94-2.06-.94L8.5 2.5l-.94 2.06-2.06.94zm10 10l.94 2.06.94-2.06 2.06-.94-2.06-.94-.94-2.06-.94 2.06-2.06.94z\"/><path d=\"M17.41 7.96l-1.37-1.37c-.4-.4-.92-.59-1.43-.59-.52 0-1.04.2-1.43.59L10.3 9.45l-7.72 7.72c-.78.78-.78 2.05 0 2.83L4 21.41c.39.39.9.59 1.41.59.51 0 1.02-.2 1.41-.59l7.78-7.78 2.81-2.81c.8-.78.8-2.07 0-2.86zM5.41 20L4 18.59l7.72-7.72 1.47 1.35L5.41 20z\"/>\n",
              "  </svg>\n",
              "      </button>\n",
              "      \n",
              "  <style>\n",
              "    .colab-df-container {\n",
              "      display:flex;\n",
              "      flex-wrap:wrap;\n",
              "      gap: 12px;\n",
              "    }\n",
              "\n",
              "    .colab-df-convert {\n",
              "      background-color: #E8F0FE;\n",
              "      border: none;\n",
              "      border-radius: 50%;\n",
              "      cursor: pointer;\n",
              "      display: none;\n",
              "      fill: #1967D2;\n",
              "      height: 32px;\n",
              "      padding: 0 0 0 0;\n",
              "      width: 32px;\n",
              "    }\n",
              "\n",
              "    .colab-df-convert:hover {\n",
              "      background-color: #E2EBFA;\n",
              "      box-shadow: 0px 1px 2px rgba(60, 64, 67, 0.3), 0px 1px 3px 1px rgba(60, 64, 67, 0.15);\n",
              "      fill: #174EA6;\n",
              "    }\n",
              "\n",
              "    [theme=dark] .colab-df-convert {\n",
              "      background-color: #3B4455;\n",
              "      fill: #D2E3FC;\n",
              "    }\n",
              "\n",
              "    [theme=dark] .colab-df-convert:hover {\n",
              "      background-color: #434B5C;\n",
              "      box-shadow: 0px 1px 3px 1px rgba(0, 0, 0, 0.15);\n",
              "      filter: drop-shadow(0px 1px 2px rgba(0, 0, 0, 0.3));\n",
              "      fill: #FFFFFF;\n",
              "    }\n",
              "  </style>\n",
              "\n",
              "      <script>\n",
              "        const buttonEl =\n",
              "          document.querySelector('#df-c943685d-96c8-4382-8cd6-870506863fb4 button.colab-df-convert');\n",
              "        buttonEl.style.display =\n",
              "          google.colab.kernel.accessAllowed ? 'block' : 'none';\n",
              "\n",
              "        async function convertToInteractive(key) {\n",
              "          const element = document.querySelector('#df-c943685d-96c8-4382-8cd6-870506863fb4');\n",
              "          const dataTable =\n",
              "            await google.colab.kernel.invokeFunction('convertToInteractive',\n",
              "                                                     [key], {});\n",
              "          if (!dataTable) return;\n",
              "\n",
              "          const docLinkHtml = 'Like what you see? Visit the ' +\n",
              "            '<a target=\"_blank\" href=https://colab.research.google.com/notebooks/data_table.ipynb>data table notebook</a>'\n",
              "            + ' to learn more about interactive tables.';\n",
              "          element.innerHTML = '';\n",
              "          dataTable['output_type'] = 'display_data';\n",
              "          await google.colab.output.renderOutput(dataTable, element);\n",
              "          const docLink = document.createElement('div');\n",
              "          docLink.innerHTML = docLinkHtml;\n",
              "          element.appendChild(docLink);\n",
              "        }\n",
              "      </script>\n",
              "    </div>\n",
              "  </div>\n",
              "  "
            ],
            "text/plain": [
              "           id                                               name   host_id  \\\n",
              "0        2539                 Clean & quiet apt home by the park      2787   \n",
              "1        2595                              Skylit Midtown Castle      2845   \n",
              "2        3647                THE VILLAGE OF HARLEM....NEW YORK !      4632   \n",
              "3        3831                    Cozy Entire Floor of Brownstone      4869   \n",
              "4        5022   Entire Apt: Spacious Studio/Loft by central park      7192   \n",
              "...       ...                                                ...       ...   \n",
              "7386  5476046                Large Duplex Near Subway! 5bdrm/2ba  10297692   \n",
              "7387  5476474                   Amazing HK one bedroom apartment  20318406   \n",
              "7388  5477034                Comfy room in Williamsburg Loft Apt   4687722   \n",
              "7389  5477876                             Stylish Greenpoint Gem   1506972   \n",
              "7390  5478741  Garden, Walk to Empire State, B'way, Subway 2 ...  28411613   \n",
              "\n",
              "                host_name neighbourhood_group   neighbourhood  latitude  \\\n",
              "0                    John            Brooklyn      Kensington  40.64749   \n",
              "1                Jennifer           Manhattan         Midtown  40.75362   \n",
              "2               Elisabeth           Manhattan          Harlem  40.80902   \n",
              "3             LisaRoxanne            Brooklyn    Clinton Hill  40.68514   \n",
              "4                   Laura           Manhattan     East Harlem  40.79851   \n",
              "...                   ...                 ...             ...       ...   \n",
              "7386                  Dee            Brooklyn   Crown Heights  40.67615   \n",
              "7387             Dimitriy           Manhattan  Hell's Kitchen  40.76571   \n",
              "7388                  Mav            Brooklyn    Williamsburg  40.71538   \n",
              "7389  Vanessa & Christian            Brooklyn      Greenpoint  40.73406   \n",
              "7390                Marea           Manhattan         Midtown  40.74447   \n",
              "\n",
              "      longitude        room_type  price  minimum_nights  number_of_reviews  \\\n",
              "0     -73.97237     Private room  149.0             1.0                9.0   \n",
              "1     -73.98377  Entire home/apt  225.0             1.0               45.0   \n",
              "2     -73.94190     Private room  150.0             3.0                0.0   \n",
              "3     -73.95976  Entire home/apt   89.0             1.0              270.0   \n",
              "4     -73.94399  Entire home/apt   80.0            10.0                9.0   \n",
              "...         ...              ...    ...             ...                ...   \n",
              "7386  -73.92945  Entire home/apt  500.0             1.0               68.0   \n",
              "7387  -73.99482  Entire home/apt  120.0             1.0               12.0   \n",
              "7388  -73.94527     Private room   85.0             1.0                0.0   \n",
              "7389  -73.95551  Entire home/apt  135.0             3.0               17.0   \n",
              "7390   -7.00000              NaN    NaN             NaN                NaN   \n",
              "\n",
              "     last_review  reviews_per_month  calculated_host_listings_count  \\\n",
              "0     2018-10-19               0.21                             6.0   \n",
              "1     2019-05-21               0.38                             2.0   \n",
              "2            NaN                NaN                             1.0   \n",
              "3     2019-07-05               4.64                             1.0   \n",
              "4     2018-11-19               0.10                             1.0   \n",
              "...          ...                ...                             ...   \n",
              "7386  2019-04-27               1.41                             2.0   \n",
              "7387  2018-07-19               0.24                             1.0   \n",
              "7388         NaN                NaN                             1.0   \n",
              "7389  2019-06-08               0.32                             1.0   \n",
              "7390         NaN                NaN                             NaN   \n",
              "\n",
              "      availability_365  \n",
              "0                365.0  \n",
              "1                355.0  \n",
              "2                365.0  \n",
              "3                194.0  \n",
              "4                  0.0  \n",
              "...                ...  \n",
              "7386             313.0  \n",
              "7387             163.0  \n",
              "7388               0.0  \n",
              "7389               8.0  \n",
              "7390               NaN  \n",
              "\n",
              "[7391 rows x 16 columns]"
            ]
          },
          "execution_count": 3,
          "metadata": {},
          "output_type": "execute_result"
        }
      ],
      "source": [
        "# Dataset First Look\n",
        "df"
      ]
    },
    {
      "cell_type": "markdown",
      "metadata": {
        "id": "7hBIi_osiCS2"
      },
      "source": [
        "### Dataset Rows & Columns count"
      ]
    },
    {
      "cell_type": "code",
      "source": [
        "\n",
        "df.shape"
      ],
      "metadata": {
        "colab": {
          "base_uri": "https://localhost:8080/"
        },
        "id": "KRICCZ9md6TK",
        "outputId": "b426f3f1-dcad-4404-a310-0b981444cade"
      },
      "execution_count": null,
      "outputs": [
        {
          "output_type": "execute_result",
          "data": {
            "text/plain": [
              "(48895, 16)"
            ]
          },
          "metadata": {},
          "execution_count": 39
        }
      ]
    },
    {
      "cell_type": "code",
      "execution_count": null,
      "metadata": {
        "colab": {
          "base_uri": "https://localhost:8080/"
        },
        "id": "Kllu7SJgmLij",
        "outputId": "fe645f30-a0ce-4b6d-87d2-1cf2ebba6b9b"
      },
      "outputs": [
        {
          "output_type": "stream",
          "name": "stdout",
          "text": [
            "Number of Rows:  48895\n",
            "Number of Columns:  16\n"
          ]
        }
      ],
      "source": [
        "# Dataset Rows & Columns count\n",
        "# computing number of rows\n",
        "rows = len(df.axes[0])\n",
        " \n",
        "# computing number of columns\n",
        "cols = len(df.axes[1])\n",
        " \n",
        "print(\"Number of Rows: \", rows)\n",
        "print(\"Number of Columns: \", cols)"
      ]
    },
    {
      "cell_type": "markdown",
      "metadata": {
        "id": "JlHwYmJAmNHm"
      },
      "source": [
        "### Dataset Information"
      ]
    },
    {
      "cell_type": "code",
      "execution_count": null,
      "metadata": {
        "colab": {
          "base_uri": "https://localhost:8080/"
        },
        "id": "e9hRXRi6meOf",
        "outputId": "eafb5ddf-1787-472e-d3d0-c6ac544428e2"
      },
      "outputs": [
        {
          "name": "stdout",
          "output_type": "stream",
          "text": [
            "<class 'pandas.core.frame.DataFrame'>\n",
            "RangeIndex: 7391 entries, 0 to 7390\n",
            "Data columns (total 16 columns):\n",
            " #   Column                          Non-Null Count  Dtype  \n",
            "---  ------                          --------------  -----  \n",
            " 0   id                              7391 non-null   int64  \n",
            " 1   name                            7384 non-null   object \n",
            " 2   host_id                         7391 non-null   int64  \n",
            " 3   host_name                       7386 non-null   object \n",
            " 4   neighbourhood_group             7391 non-null   object \n",
            " 5   neighbourhood                   7391 non-null   object \n",
            " 6   latitude                        7391 non-null   float64\n",
            " 7   longitude                       7391 non-null   float64\n",
            " 8   room_type                       7390 non-null   object \n",
            " 9   price                           7390 non-null   float64\n",
            " 10  minimum_nights                  7390 non-null   float64\n",
            " 11  number_of_reviews               7390 non-null   float64\n",
            " 12  last_review                     6567 non-null   object \n",
            " 13  reviews_per_month               6567 non-null   float64\n",
            " 14  calculated_host_listings_count  7390 non-null   float64\n",
            " 15  availability_365                7390 non-null   float64\n",
            "dtypes: float64(8), int64(2), object(6)\n",
            "memory usage: 924.0+ KB\n"
          ]
        }
      ],
      "source": [
        "# Dataset Info\n",
        "df.info()"
      ]
    },
    {
      "cell_type": "markdown",
      "metadata": {
        "id": "35m5QtbWiB9F"
      },
      "source": [
        "#### Duplicate Values"
      ]
    },
    {
      "cell_type": "code",
      "execution_count": null,
      "metadata": {
        "colab": {
          "base_uri": "https://localhost:8080/"
        },
        "id": "1sLdpKYkmox0",
        "outputId": "8252cbc9-14b4-4669-d67c-768f923ec151"
      },
      "outputs": [
        {
          "data": {
            "text/plain": [
              "0"
            ]
          },
          "execution_count": 7,
          "metadata": {},
          "output_type": "execute_result"
        }
      ],
      "source": [
        "# Dataset Duplicate Value Count\n",
        "df.duplicated().sum()"
      ]
    },
    {
      "cell_type": "markdown",
      "metadata": {
        "id": "PoPl-ycgm1ru"
      },
      "source": [
        "#### Missing Values/Null Values"
      ]
    },
    {
      "cell_type": "code",
      "execution_count": null,
      "metadata": {
        "colab": {
          "base_uri": "https://localhost:8080/"
        },
        "id": "GgHWkxvamxVg",
        "outputId": "25ad72d8-51cf-4268-bb93-c019f6b81d83"
      },
      "outputs": [
        {
          "data": {
            "text/plain": [
              "id                                  0\n",
              "name                                7\n",
              "host_id                             0\n",
              "host_name                           5\n",
              "neighbourhood_group                 0\n",
              "neighbourhood                       0\n",
              "latitude                            0\n",
              "longitude                           0\n",
              "room_type                           1\n",
              "price                               1\n",
              "minimum_nights                      1\n",
              "number_of_reviews                   1\n",
              "last_review                       824\n",
              "reviews_per_month                 824\n",
              "calculated_host_listings_count      1\n",
              "availability_365                    1\n",
              "dtype: int64"
            ]
          },
          "execution_count": 8,
          "metadata": {},
          "output_type": "execute_result"
        }
      ],
      "source": [
        "# Missing Values/Null Values Count\n",
        "df.isnull().sum()"
      ]
    },
    {
      "cell_type": "code",
      "execution_count": null,
      "metadata": {
        "colab": {
          "base_uri": "https://localhost:8080/",
          "height": 440
        },
        "id": "3q5wnI3om9sJ",
        "outputId": "d1b35139-3fd9-4b89-9bf0-673c1d4a6729"
      },
      "outputs": [
        {
          "data": {
            "image/png": "[encoded data removed]",
            "text/plain": [
              "<Figure size 1800x720 with 3 Axes>"
            ]
          },
          "metadata": {},
          "output_type": "display_data"
        }
      ],
      "source": [
        "# Visualizing the missing values\n",
        "import missingno as msno\n",
        "\n",
        "# Create a missing value bar chart\n",
        "msno.bar(df)\n",
        "\n",
        "# Show the plot\n",
        "plt.show()\n",
        "\n"
      ]
    },
    {
      "cell_type": "markdown",
      "metadata": {
        "id": "H0kj-8xxnORC"
      },
      "source": [
        "### What did we know about  dataset?"
      ]
    },
    {
      "cell_type": "markdown",
      "metadata": {
        "id": "gfoNAAC-nUe_"
      },
      "source": [
        "The Airbnb dataset is a collection of data that contains information about listings, reviews, and user interactions on the Airbnb platform. The dataset includes information such as the listing's location, price, number of bedrooms, and user reviews. It is commonly used by researchers and data analysts to study trends in the sharing economy and the impact of Airbnb on housing markets. The dataset is also used for various research purposes and data analysis tasks, such as predicting prices, analyzing customer reviews, understanding the impact of Airbnb on the housing market, and more. It is an open dataset and is publicly available for anyone to download and use.Answer Here"
      ]
    },
    {
      "cell_type": "markdown",
      "metadata": {
        "id": "nA9Y7ga8ng1Z"
      },
      "source": [
        "## ***2. Understanding Your Variables***"
      ]
    },
    {
      "cell_type": "code",
      "execution_count": null,
      "metadata": {
        "colab": {
          "base_uri": "https://localhost:8080/"
        },
        "id": "j7xfkqrt5Ag5",
        "outputId": "dbaddd09-3f59-499a-98b7-4ff1e6dcb6b3"
      },
      "outputs": [
        {
          "data": {
            "text/plain": [
              "Index(['id', 'name', 'host_id', 'host_name', 'neighbourhood_group',\n",
              "       'neighbourhood', 'latitude', 'longitude', 'room_type', 'price',\n",
              "       'minimum_nights', 'number_of_reviews', 'last_review',\n",
              "       'reviews_per_month', 'calculated_host_listings_count',\n",
              "       'availability_365'],\n",
              "      dtype='object')"
            ]
          },
          "execution_count": 10,
          "metadata": {},
          "output_type": "execute_result"
        }
      ],
      "source": [
        "# Dataset Columns\n",
        "df.columns"
      ]
    },
    {
      "cell_type": "code",
      "execution_count": null,
      "metadata": {
        "colab": {
          "base_uri": "https://localhost:8080/"
        },
        "id": "DnOaZdaE5Q5t",
        "outputId": "869613a7-6a2c-440e-a9a9-07c11687d3c0"
      },
      "outputs": [
        {
          "data": {
            "text/plain": [
              "<bound method NDFrame.describe of            id                                               name   host_id  \\\n",
              "0        2539                 Clean & quiet apt home by the park      2787   \n",
              "1        2595                              Skylit Midtown Castle      2845   \n",
              "2        3647                THE VILLAGE OF HARLEM....NEW YORK !      4632   \n",
              "3        3831                    Cozy Entire Floor of Brownstone      4869   \n",
              "4        5022   Entire Apt: Spacious Studio/Loft by central park      7192   \n",
              "...       ...                                                ...       ...   \n",
              "7386  5476046                Large Duplex Near Subway! 5bdrm/2ba  10297692   \n",
              "7387  5476474                   Amazing HK one bedroom apartment  20318406   \n",
              "7388  5477034                Comfy room in Williamsburg Loft Apt   4687722   \n",
              "7389  5477876                             Stylish Greenpoint Gem   1506972   \n",
              "7390  5478741  Garden, Walk to Empire State, B'way, Subway 2 ...  28411613   \n",
              "\n",
              "                host_name neighbourhood_group   neighbourhood  latitude  \\\n",
              "0                    John            Brooklyn      Kensington  40.64749   \n",
              "1                Jennifer           Manhattan         Midtown  40.75362   \n",
              "2               Elisabeth           Manhattan          Harlem  40.80902   \n",
              "3             LisaRoxanne            Brooklyn    Clinton Hill  40.68514   \n",
              "4                   Laura           Manhattan     East Harlem  40.79851   \n",
              "...                   ...                 ...             ...       ...   \n",
              "7386                  Dee            Brooklyn   Crown Heights  40.67615   \n",
              "7387             Dimitriy           Manhattan  Hell's Kitchen  40.76571   \n",
              "7388                  Mav            Brooklyn    Williamsburg  40.71538   \n",
              "7389  Vanessa & Christian            Brooklyn      Greenpoint  40.73406   \n",
              "7390                Marea           Manhattan         Midtown  40.74447   \n",
              "\n",
              "      longitude        room_type  price  minimum_nights  number_of_reviews  \\\n",
              "0     -73.97237     Private room  149.0             1.0                9.0   \n",
              "1     -73.98377  Entire home/apt  225.0             1.0               45.0   \n",
              "2     -73.94190     Private room  150.0             3.0                0.0   \n",
              "3     -73.95976  Entire home/apt   89.0             1.0              270.0   \n",
              "4     -73.94399  Entire home/apt   80.0            10.0                9.0   \n",
              "...         ...              ...    ...             ...                ...   \n",
              "7386  -73.92945  Entire home/apt  500.0             1.0               68.0   \n",
              "7387  -73.99482  Entire home/apt  120.0             1.0               12.0   \n",
              "7388  -73.94527     Private room   85.0             1.0                0.0   \n",
              "7389  -73.95551  Entire home/apt  135.0             3.0               17.0   \n",
              "7390   -7.00000              NaN    NaN             NaN                NaN   \n",
              "\n",
              "     last_review  reviews_per_month  calculated_host_listings_count  \\\n",
              "0     2018-10-19               0.21                             6.0   \n",
              "1     2019-05-21               0.38                             2.0   \n",
              "2            NaN                NaN                             1.0   \n",
              "3     2019-07-05               4.64                             1.0   \n",
              "4     2018-11-19               0.10                             1.0   \n",
              "...          ...                ...                             ...   \n",
              "7386  2019-04-27               1.41                             2.0   \n",
              "7387  2018-07-19               0.24                             1.0   \n",
              "7388         NaN                NaN                             1.0   \n",
              "7389  2019-06-08               0.32                             1.0   \n",
              "7390         NaN                NaN                             NaN   \n",
              "\n",
              "      availability_365  \n",
              "0                365.0  \n",
              "1                355.0  \n",
              "2                365.0  \n",
              "3                194.0  \n",
              "4                  0.0  \n",
              "...                ...  \n",
              "7386             313.0  \n",
              "7387             163.0  \n",
              "7388               0.0  \n",
              "7389               8.0  \n",
              "7390               NaN  \n",
              "\n",
              "[7391 rows x 16 columns]>"
            ]
          },
          "execution_count": 11,
          "metadata": {},
          "output_type": "execute_result"
        }
      ],
      "source": [
        "# Dataset Describe\n",
        "df.describe"
      ]
    },
    {
      "cell_type": "markdown",
      "metadata": {
        "id": "PBTbrJXOngz2"
      },
      "source": [
        "### Variables Description "
      ]
    },
    {
      "cell_type": "code",
      "execution_count": null,
      "metadata": {
        "colab": {
          "base_uri": "https://localhost:8080/",
          "height": 364
        },
        "id": "QoRpHvKmsSUv",
        "outputId": "8f86ef48-8e5d-4fe4-b322-8637b3cc56da"
      },
      "outputs": [
        {
          "data": {
            "text/html": [
              "\n",
              "  <div id=\"df-9621d3f4-fa6f-413b-906c-fb66f97617bd\">\n",
              "    <div class=\"colab-df-container\">\n",
              "      <div>\n",
              "<style scoped>\n",
              "    .dataframe tbody tr th:only-of-type {\n",
              "        vertical-align: middle;\n",
              "    }\n",
              "\n",
              "    .dataframe tbody tr th {\n",
              "        vertical-align: top;\n",
              "    }\n",
              "\n",
              "    .dataframe thead th {\n",
              "        text-align: right;\n",
              "    }\n",
              "</style>\n",
              "<table border=\"1\" class=\"dataframe\">\n",
              "  <thead>\n",
              "    <tr style=\"text-align: right;\">\n",
              "      <th></th>\n",
              "      <th>id</th>\n",
              "      <th>host_id</th>\n",
              "      <th>latitude</th>\n",
              "      <th>longitude</th>\n",
              "      <th>price</th>\n",
              "      <th>minimum_nights</th>\n",
              "      <th>number_of_reviews</th>\n",
              "      <th>reviews_per_month</th>\n",
              "      <th>calculated_host_listings_count</th>\n",
              "      <th>availability_365</th>\n",
              "    </tr>\n",
              "  </thead>\n",
              "  <tbody>\n",
              "    <tr>\n",
              "      <th>count</th>\n",
              "      <td>7391</td>\n",
              "      <td>7391</td>\n",
              "      <td>7391</td>\n",
              "      <td>7391</td>\n",
              "      <td>7390</td>\n",
              "      <td>7390</td>\n",
              "      <td>7390</td>\n",
              "      <td>6567</td>\n",
              "      <td>7390</td>\n",
              "      <td>7390</td>\n",
              "    </tr>\n",
              "    <tr>\n",
              "      <th>mean</th>\n",
              "      <td>2443568</td>\n",
              "      <td>7922205</td>\n",
              "      <td>40</td>\n",
              "      <td>-73</td>\n",
              "      <td>167</td>\n",
              "      <td>8</td>\n",
              "      <td>50</td>\n",
              "      <td>0</td>\n",
              "      <td>2</td>\n",
              "      <td>133</td>\n",
              "    </tr>\n",
              "    <tr>\n",
              "      <th>std</th>\n",
              "      <td>1689462</td>\n",
              "      <td>7639973</td>\n",
              "      <td>0</td>\n",
              "      <td>0</td>\n",
              "      <td>278</td>\n",
              "      <td>29</td>\n",
              "      <td>72</td>\n",
              "      <td>1</td>\n",
              "      <td>6</td>\n",
              "      <td>138</td>\n",
              "    </tr>\n",
              "    <tr>\n",
              "      <th>min</th>\n",
              "      <td>2539</td>\n",
              "      <td>2571</td>\n",
              "      <td>40</td>\n",
              "      <td>-74</td>\n",
              "      <td>10</td>\n",
              "      <td>1</td>\n",
              "      <td>0</td>\n",
              "      <td>0</td>\n",
              "      <td>1</td>\n",
              "      <td>0</td>\n",
              "    </tr>\n",
              "    <tr>\n",
              "      <th>25%</th>\n",
              "      <td>822768</td>\n",
              "      <td>1599930</td>\n",
              "      <td>40</td>\n",
              "      <td>-73</td>\n",
              "      <td>80</td>\n",
              "      <td>2</td>\n",
              "      <td>4</td>\n",
              "      <td>0</td>\n",
              "      <td>1</td>\n",
              "      <td>0</td>\n",
              "    </tr>\n",
              "    <tr>\n",
              "      <th>50%</th>\n",
              "      <td>2224896</td>\n",
              "      <td>5076827</td>\n",
              "      <td>40</td>\n",
              "      <td>-73</td>\n",
              "      <td>120</td>\n",
              "      <td>3</td>\n",
              "      <td>18</td>\n",
              "      <td>0</td>\n",
              "      <td>1</td>\n",
              "      <td>81</td>\n",
              "    </tr>\n",
              "    <tr>\n",
              "      <th>75%</th>\n",
              "      <td>4032019</td>\n",
              "      <td>11982187</td>\n",
              "      <td>40</td>\n",
              "      <td>-73</td>\n",
              "      <td>185</td>\n",
              "      <td>5</td>\n",
              "      <td>67</td>\n",
              "      <td>1</td>\n",
              "      <td>2</td>\n",
              "      <td>273</td>\n",
              "    </tr>\n",
              "    <tr>\n",
              "      <th>max</th>\n",
              "      <td>5478741</td>\n",
              "      <td>41398078</td>\n",
              "      <td>40</td>\n",
              "      <td>-7</td>\n",
              "      <td>9999</td>\n",
              "      <td>1250</td>\n",
              "      <td>607</td>\n",
              "      <td>13</td>\n",
              "      <td>96</td>\n",
              "      <td>365</td>\n",
              "    </tr>\n",
              "  </tbody>\n",
              "</table>\n",
              "</div>\n",
              "      <button class=\"colab-df-convert\" onclick=\"convertToInteractive('df-9621d3f4-fa6f-413b-906c-fb66f97617bd')\"\n",
              "              title=\"Convert this dataframe to an interactive table.\"\n",
              "              style=\"display:none;\">\n",
              "        \n",
              "  <svg xmlns=\"http://www.w3.org/2000/svg\" height=\"24px\"viewBox=\"0 0 24 24\"\n",
              "       width=\"24px\">\n",
              "    <path d=\"M0 0h24v24H0V0z\" fill=\"none\"/>\n",
              "    <path d=\"M18.56 5.44l.94 2.06.94-2.06 2.06-.94-2.06-.94-.94-2.06-.94 2.06-2.06.94zm-11 1L8.5 8.5l.94-2.06 2.06-.94-2.06-.94L8.5 2.5l-.94 2.06-2.06.94zm10 10l.94 2.06.94-2.06 2.06-.94-2.06-.94-.94-2.06-.94 2.06-2.06.94z\"/><path d=\"M17.41 7.96l-1.37-1.37c-.4-.4-.92-.59-1.43-.59-.52 0-1.04.2-1.43.59L10.3 9.45l-7.72 7.72c-.78.78-.78 2.05 0 2.83L4 21.41c.39.39.9.59 1.41.59.51 0 1.02-.2 1.41-.59l7.78-7.78 2.81-2.81c.8-.78.8-2.07 0-2.86zM5.41 20L4 18.59l7.72-7.72 1.47 1.35L5.41 20z\"/>\n",
              "  </svg>\n",
              "      </button>\n",
              "      \n",
              "  <style>\n",
              "    .colab-df-container {\n",
              "      display:flex;\n",
              "      flex-wrap:wrap;\n",
              "      gap: 12px;\n",
              "    }\n",
              "\n",
              "    .colab-df-convert {\n",
              "      background-color: #E8F0FE;\n",
              "      border: none;\n",
              "      border-radius: 50%;\n",
              "      cursor: pointer;\n",
              "      display: none;\n",
              "      fill: #1967D2;\n",
              "      height: 32px;\n",
              "      padding: 0 0 0 0;\n",
              "      width: 32px;\n",
              "    }\n",
              "\n",
              "    .colab-df-convert:hover {\n",
              "      background-color: #E2EBFA;\n",
              "      box-shadow: 0px 1px 2px rgba(60, 64, 67, 0.3), 0px 1px 3px 1px rgba(60, 64, 67, 0.15);\n",
              "      fill: #174EA6;\n",
              "    }\n",
              "\n",
              "    [theme=dark] .colab-df-convert {\n",
              "      background-color: #3B4455;\n",
              "      fill: #D2E3FC;\n",
              "    }\n",
              "\n",
              "    [theme=dark] .colab-df-convert:hover {\n",
              "      background-color: #434B5C;\n",
              "      box-shadow: 0px 1px 3px 1px rgba(0, 0, 0, 0.15);\n",
              "      filter: drop-shadow(0px 1px 2px rgba(0, 0, 0, 0.3));\n",
              "      fill: #FFFFFF;\n",
              "    }\n",
              "  </style>\n",
              "\n",
              "      <script>\n",
              "        const buttonEl =\n",
              "          document.querySelector('#df-9621d3f4-fa6f-413b-906c-fb66f97617bd button.colab-df-convert');\n",
              "        buttonEl.style.display =\n",
              "          google.colab.kernel.accessAllowed ? 'block' : 'none';\n",
              "\n",
              "        async function convertToInteractive(key) {\n",
              "          const element = document.querySelector('#df-9621d3f4-fa6f-413b-906c-fb66f97617bd');\n",
              "          const dataTable =\n",
              "            await google.colab.kernel.invokeFunction('convertToInteractive',\n",
              "                                                     [key], {});\n",
              "          if (!dataTable) return;\n",
              "\n",
              "          const docLinkHtml = 'Like what you see? Visit the ' +\n",
              "            '<a target=\"_blank\" href=https://colab.research.google.com/notebooks/data_table.ipynb>data table notebook</a>'\n",
              "            + ' to learn more about interactive tables.';\n",
              "          element.innerHTML = '';\n",
              "          dataTable['output_type'] = 'display_data';\n",
              "          await google.colab.output.renderOutput(dataTable, element);\n",
              "          const docLink = document.createElement('div');\n",
              "          docLink.innerHTML = docLinkHtml;\n",
              "          element.appendChild(docLink);\n",
              "        }\n",
              "      </script>\n",
              "    </div>\n",
              "  </div>\n",
              "  "
            ],
            "text/plain": [
              "            id   host_id  latitude  longitude  price  minimum_nights  \\\n",
              "count     7391      7391      7391       7391   7390            7390   \n",
              "mean   2443568   7922205        40        -73    167               8   \n",
              "std    1689462   7639973         0          0    278              29   \n",
              "min       2539      2571        40        -74     10               1   \n",
              "25%     822768   1599930        40        -73     80               2   \n",
              "50%    2224896   5076827        40        -73    120               3   \n",
              "75%    4032019  11982187        40        -73    185               5   \n",
              "max    5478741  41398078        40         -7   9999            1250   \n",
              "\n",
              "       number_of_reviews  reviews_per_month  calculated_host_listings_count  \\\n",
              "count               7390               6567                            7390   \n",
              "mean                  50                  0                               2   \n",
              "std                   72                  1                               6   \n",
              "min                    0                  0                               1   \n",
              "25%                    4                  0                               1   \n",
              "50%                   18                  0                               1   \n",
              "75%                   67                  1                               2   \n",
              "max                  607                 13                              96   \n",
              "\n",
              "       availability_365  \n",
              "count              7390  \n",
              "mean                133  \n",
              "std                 138  \n",
              "min                   0  \n",
              "25%                   0  \n",
              "50%                  81  \n",
              "75%                 273  \n",
              "max                 365  "
            ]
          },
          "execution_count": 12,
          "metadata": {},
          "output_type": "execute_result"
        }
      ],
      "source": [
        "df.describe().astype(int)"
      ]
    },
    {
      "cell_type": "markdown",
      "metadata": {
        "id": "aJV4KIxSnxay"
      },
      "source": [
        "id: a unique identifier for each listing\n",
        "\n",
        "name: the name of the listing\n",
        "\n",
        "host_id: a unique identifier for the host of the listing\n",
        "\n",
        "host_name: the name of the host of the listing\n",
        "\n",
        "neighbourhood_group: the group or area that the neighbourhood belongs to\n",
        "\n",
        "neighbourhood: the neighbourhood where the listing is located\n",
        "\n",
        "latitude: the latitude coordinates of the listing's location\n",
        "\n",
        "longitude: the longitude coordinates of the listing's location\n",
        "\n",
        "room_type: the type of room offered (e.g. private room, shared room, entire home/apt)\n",
        "\n",
        "price: the nightly price for the listing\n",
        "\n",
        "minimum_nights: the minimum number of nights that must be booked for a stay at the listing\n",
        "\n",
        "number_of_reviews: the number of reviews for the listing\n",
        "\n",
        "last_review: the date of the last review for the listing\n",
        "\n",
        "reviews_per_month: the number of reviews per month for the listing\n",
        "\n",
        "calculated_host_listings_count: the number of listings the host has on the platform\n",
        "\n",
        "availability_365: the number of days in a year the listing is available for booking.\n",
        "\n",
        "\n",
        "\n",
        "\n"
      ]
    },
    {
      "cell_type": "markdown",
      "metadata": {
        "id": "u3PMJOP6ngxN"
      },
      "source": [
        "### Check Unique Values for each variable."
      ]
    },
    {
      "cell_type": "code",
      "execution_count": null,
      "metadata": {
        "colab": {
          "base_uri": "https://localhost:8080/"
        },
        "id": "zms12Yq5n-jE",
        "outputId": "528a7fcd-d1b9-4573-a7e8-cd863704e3b3"
      },
      "outputs": [
        {
          "data": {
            "text/plain": [
              "id                                7391\n",
              "name                              7345\n",
              "host_id                           6371\n",
              "host_name                         3020\n",
              "neighbourhood_group                  5\n",
              "neighbourhood                      163\n",
              "latitude                          5983\n",
              "longitude                         5200\n",
              "room_type                            3\n",
              "price                              365\n",
              "minimum_nights                      73\n",
              "number_of_reviews                  368\n",
              "last_review                       1408\n",
              "reviews_per_month                  504\n",
              "calculated_host_listings_count      26\n",
              "availability_365                   366\n",
              "dtype: int64"
            ]
          },
          "execution_count": 13,
          "metadata": {},
          "output_type": "execute_result"
        }
      ],
      "source": [
        "# Check Unique Values for each variable.\n",
        "a=df.nunique()\n",
        "a"
      ]
    },
    {
      "cell_type": "markdown",
      "metadata": {
        "id": "dauF4eBmngu3"
      },
      "source": [
        "## 3. ***Data Wrangling***"
      ]
    },
    {
      "cell_type": "markdown",
      "metadata": {
        "id": "bKJF3rekwFvQ"
      },
      "source": [
        "### Data Wrangling Code"
      ]
    },
    {
      "cell_type": "code",
      "execution_count": null,
      "metadata": {
        "colab": {
          "base_uri": "https://localhost:8080/"
        },
        "id": "wk-9a2fpoLcV",
        "outputId": "3018a37c-85bd-418c-c9a7-6f94b179eacf"
      },
      "outputs": [
        {
          "name": "stdout",
          "output_type": "stream",
          "text": [
            "     id                                              name  host_id  \\\n",
            "0  2539                Clean & quiet apt home by the park     2787   \n",
            "1  2595                             Skylit Midtown Castle     2845   \n",
            "2  3647               THE VILLAGE OF HARLEM....NEW YORK !     4632   \n",
            "3  3831                   Cozy Entire Floor of Brownstone     4869   \n",
            "4  5022  Entire Apt: Spacious Studio/Loft by central park     7192   \n",
            "\n",
            "     host_name neighbourhood_group neighbourhood  latitude  longitude  \\\n",
            "0         John            Brooklyn    Kensington  40.64749  -73.97237   \n",
            "1     Jennifer           Manhattan       Midtown  40.75362  -73.98377   \n",
            "2    Elisabeth           Manhattan        Harlem  40.80902  -73.94190   \n",
            "3  LisaRoxanne            Brooklyn  Clinton Hill  40.68514  -73.95976   \n",
            "4        Laura           Manhattan   East Harlem  40.79851  -73.94399   \n",
            "\n",
            "         room_type  price  minimum_nights  number_of_reviews last_review  \\\n",
            "0     Private room  149.0             1.0                9.0  2018-10-19   \n",
            "1  Entire home/apt  225.0             1.0               45.0  2019-05-21   \n",
            "2     Private room  150.0             3.0                0.0         NaN   \n",
            "3  Entire home/apt   89.0             1.0              270.0  2019-07-05   \n",
            "4  Entire home/apt   80.0            10.0                9.0  2018-11-19   \n",
            "\n",
            "   reviews_per_month  calculated_host_listings_count  availability_365  \n",
            "0               0.21                             6.0             365.0  \n",
            "1               0.38                             2.0             355.0  \n",
            "2                NaN                             1.0             365.0  \n",
            "3               4.64                             1.0             194.0  \n",
            "4               0.10                             1.0               0.0  \n",
            "id                                  0\n",
            "name                                7\n",
            "host_id                             0\n",
            "host_name                           5\n",
            "neighbourhood_group                 0\n",
            "neighbourhood                       0\n",
            "latitude                            0\n",
            "longitude                           0\n",
            "room_type                           1\n",
            "price                               1\n",
            "minimum_nights                      1\n",
            "number_of_reviews                   1\n",
            "last_review                       824\n",
            "reviews_per_month                 824\n",
            "calculated_host_listings_count      1\n",
            "availability_365                    1\n",
            "dtype: int64\n",
            "0\n",
            "(7391, 16)\n"
          ]
        },
        {
          "name": "stderr",
          "output_type": "stream",
          "text": [
            "<ipython-input-14-a1e7b05305de>:8: FutureWarning: Dropping of nuisance columns in DataFrame reductions (with 'numeric_only=None') is deprecated; in a future version this will raise TypeError.  Select only valid columns before calling the reduction.\n",
            "  df = df.fillna(df.mean())\n"
          ]
        }
      ],
      "source": [
        "\n",
        "# Print the first five rows of the dataset\n",
        "print(df.head())\n",
        "\n",
        "# Check for missing values\n",
        "print(df.isnull().sum())\n",
        "\n",
        "# Fill missing values with the mean of the column\n",
        "df = df.fillna(df.mean())\n",
        "\n",
        "# Check for duplicate rows\n",
        "print(df.duplicated().sum())\n",
        "\n",
        "\n",
        "# Print the shape of the cleaned dataset\n",
        "print(df.shape)\n",
        "\n",
        "\n"
      ]
    },
    {
      "cell_type": "markdown",
      "metadata": {
        "id": "MSa1f5Uengrz"
      },
      "source": [
        "### What all manipulations have you done and insights you found?"
      ]
    },
    {
      "cell_type": "markdown",
      "metadata": {
        "id": "LbyXE7I1olp8"
      },
      "source": [
        "1) Analyzing the relationship between price and location, number of bedrooms, and other listing characteristics to understand how these factors influence the cost of a rental on Airbnb.\n",
        "\n",
        "2) Using text analysis techniques on customer reviews to understand the factors that influence customer satisfaction and to identify patterns in the language used by guests to describe their experience.\n",
        "\n",
        "3) Examining the distribution of listings across different neighborhoods and cities to understand the impact of Airbnb on the housing market and to identify areas where the platform has had the greatest impact.\n",
        "\n",
        "4) Identifying key dates and events that drive changes in demand for Airbnb rentals, such as holidays and major events like music festivals.\n",
        "\n",
        "5)Predicting the price of a listing using machine learning techniques such as linear regression or decision treesAnswer Here."
      ]
    },
    {
      "cell_type": "markdown",
      "metadata": {
        "id": "GF8Ens_Soomf"
      },
      "source": [
        "## ***4. Data Vizualization, Storytelling & Experimenting with charts : Understand the relationships between variables***"
      ]
    },
    {
      "cell_type": "markdown",
      "metadata": {
        "id": "0wOQAZs5pc--"
      },
      "source": [
        "#### Chart - 1"
      ]
    },
    {
      "cell_type": "code",
      "source": [
        " # Chart - 1 visualization code"
      ],
      "metadata": {
        "id": "QiUj78EWr6Sz"
      },
      "execution_count": null,
      "outputs": []
    },
    {
      "cell_type": "markdown",
      "metadata": {
        "id": "K5QZ13OEpz2H"
      },
      "source": [
        "##### 1. Why did you pick the specific chart?"
      ]
    },
    {
      "cell_type": "markdown",
      "metadata": {
        "id": "XESiWehPqBRc"
      },
      "source": []
    },
    {
      "cell_type": "markdown",
      "metadata": {
        "id": "lQ7QKXXCp7Bj"
      },
      "source": [
        "##### 2. What is/are the insight(s) found from the chart?"
      ]
    },
    {
      "cell_type": "markdown",
      "metadata": {
        "id": "C_j1G7yiqdRP"
      },
      "source": []
    },
    {
      "cell_type": "markdown",
      "metadata": {
        "id": "448CDAPjqfQr"
      },
      "source": [
        "##### 3. Will the gained insights help creating a positive business impact? \n",
        "Are there any insights that lead to negative growth? Justify with specific reason."
      ]
    },
    {
      "cell_type": "markdown",
      "metadata": {
        "id": "3cspy4FjqxJW"
      },
      "source": []
    },
    {
      "cell_type": "markdown",
      "metadata": {
        "id": "KSlN3yHqYklG"
      },
      "source": [
        "#### Chart - 2"
      ]
    },
    {
      "cell_type": "code",
      "source": [
        "# Chart - 2 visualization code"
      ],
      "metadata": {
        "id": "oZ01jNwRs1nA"
      },
      "execution_count": null,
      "outputs": []
    },
    {
      "cell_type": "markdown",
      "metadata": {
        "id": "t6dVpIINYklI"
      },
      "source": [
        "##### 1. Why did you pick the specific chart?"
      ]
    },
    {
      "cell_type": "markdown",
      "metadata": {
        "id": "5aaW0BYyYklI"
      },
      "source": []
    },
    {
      "cell_type": "markdown",
      "metadata": {
        "id": "ijmpgYnKYklI"
      },
      "source": [
        "##### 2. What is/are the insight(s) found from the chart?"
      ]
    },
    {
      "cell_type": "markdown",
      "metadata": {
        "id": "PSx9atu2YklI"
      },
      "source": []
    },
    {
      "cell_type": "markdown",
      "metadata": {
        "id": "-JiQyfWJYklI"
      },
      "source": [
        "##### 3. Will the gained insights help creating a positive business impact? \n",
        "Are there any insights that lead to negative growth? Justify with specific reason."
      ]
    },
    {
      "cell_type": "markdown",
      "metadata": {
        "id": "BcBbebzrYklV"
      },
      "source": []
    },
    {
      "cell_type": "markdown",
      "metadata": {
        "id": "EM7whBJCYoAo"
      },
      "source": [
        "#### Chart - 3"
      ]
    },
    {
      "cell_type": "code",
      "source": [
        "# Chart - 3 visualization code"
      ],
      "metadata": {
        "id": "m5tvjCyQtKEV"
      },
      "execution_count": null,
      "outputs": []
    },
    {
      "cell_type": "markdown",
      "metadata": {
        "id": "fge-S5ZAYoAp"
      },
      "source": [
        "##### 1. Why did you pick the specific chart?"
      ]
    },
    {
      "cell_type": "markdown",
      "metadata": {
        "id": "5dBItgRVYoAp"
      },
      "source": []
    },
    {
      "cell_type": "markdown",
      "metadata": {
        "id": "85gYPyotYoAp"
      },
      "source": [
        "##### 2. What is/are the insight(s) found from the chart?"
      ]
    },
    {
      "cell_type": "markdown",
      "metadata": {
        "id": "4jstXR6OYoAp"
      },
      "source": []
    },
    {
      "cell_type": "markdown",
      "metadata": {
        "id": "RoGjAbkUYoAp"
      },
      "source": [
        "##### 3. Will the gained insights help creating a positive business impact? \n",
        "Are there any insights that lead to negative growth? Justify with specific reason."
      ]
    },
    {
      "cell_type": "markdown",
      "metadata": {
        "id": "zfJ8IqMcYoAp"
      },
      "source": []
    },
    {
      "cell_type": "markdown",
      "metadata": {
        "id": "4Of9eVA-YrdM"
      },
      "source": [
        "#### Chart - 4"
      ]
    },
    {
      "cell_type": "code",
      "execution_count": null,
      "metadata": {
        "colab": {
          "base_uri": "https://localhost:8080/",
          "height": 443
        },
        "id": "irlUoxc8YrdO",
        "outputId": "9c68c5cf-1cfe-40d3-d2a7-2b78d5206c85"
      },
      "outputs": [
        {
          "name": "stderr",
          "output_type": "stream",
          "text": [
            "/usr/local/lib/python3.8/dist-packages/seaborn/_decorators.py:36: FutureWarning: Pass the following variables as keyword args: x, y. From version 0.12, the only valid positional argument will be `data`, and passing other arguments without an explicit keyword will result in an error or misinterpretation.\n",
            "  warnings.warn(\n"
          ]
        },
        {
          "data": {
            "image/png": "[encoded data removed]",
            "text/plain": [
              "<Figure size 720x432 with 1 Axes>"
            ]
          },
          "metadata": {},
          "output_type": "display_data"
        }
      ],
      "source": [
        "# What is the relationship between longitude, latitude, and neighborhood group in this dataset, as represented by a scatter plot\n",
        "# Chart - 4 visualization code\n",
        "plt.figure(figsize=(10,6))\n",
        "sns.scatterplot(df.longitude,df.latitude,hue=df.neighbourhood_group)\n",
        "plt.ioff()"
      ]
    },
    {
      "cell_type": "markdown",
      "metadata": {
        "id": "iky9q4vBYrdO"
      },
      "source": [
        "##### 1. Why did you pick the specific chart?"
      ]
    },
    {
      "cell_type": "markdown",
      "metadata": {
        "id": "aJRCwT6DYrdO"
      },
      "source": [
        "I picked this scatter plot because it effectively visualizes the distribution of Airbnb listings across different neighborhoods in New York City. The x-axis represents the longitude of the listings, while the y-axis represents the latitude. The hue of the dots represents the neighborhood group that the listing belongs to. This allows for an easy comparison of the distribution of listings in different neighborhoods, and helps to identify any potential clustering or concentrations of listings in certain areas. Additionally, scatter plots are a good choice for visualizing large datasets, as they do not obscure the individual data points."
      ]
    },
    {
      "cell_type": "markdown",
      "metadata": {
        "id": "F6T5p64dYrdO"
      },
      "source": [
        "##### 2. What is/are the insight(s) found from the chart?"
      ]
    },
    {
      "cell_type": "markdown",
      "metadata": {
        "id": "Xx8WAJvtYrdO"
      },
      "source": [
        "The majority of listings are located in Manhattan and Brooklyn, with fewer listings in Queens, Bronx, and Staten Island.\n",
        "\n",
        "There is a higher concentration of listings in Manhattan compared to other neighborhoods.\n",
        "\n",
        "There is a clear distinction in the distribution of listings between Manhattan and the other neighborhoods, with Manhattan having a more centralized and dense distribution of listings."
      ]
    },
    {
      "cell_type": "markdown",
      "metadata": {
        "id": "y-Ehk30pYrdP"
      },
      "source": [
        "##### 3. Will the gained insights help creating a positive business impact? \n",
        "Are there any insights that lead to negative growth? Justify with specific reason."
      ]
    },
    {
      "cell_type": "markdown",
      "metadata": {
        "id": "jLNxxz7MYrdP"
      },
      "source": [
        "The gained insights from the scatter plot of longitude and latitude against neighborhood group may help create a positive business impact by identifying high-demand areas for rental properties. For example, if the scatter plot shows a concentration of rental properties in a specific neighborhood group, it may indicate that this area is popular among renters and that there is potential for growth in that area.\n",
        "\n",
        "However, there may also be insights that lead to negative growth. For example, if the scatter plot shows a saturation of rental properties in a specific area, it may indicate that there is a high level of competition in that area and that growth may be limited. Additionally, if the scatter plot shows that a specific area has a lack of rental properties, it may indicate that there is a lack of demand in that area and that growth may be limited.\n",
        "\n",
        "Overall, the scatter plot can provide valuable insights for identifying areas with potential for growth, as well as areas where growth may be limited. However, it is important to consider other factors, such as market demand and competition, before making any decisions based on these insights."
      ]
    },
    {
      "cell_type": "markdown",
      "metadata": {
        "id": "bamQiAODYuh1"
      },
      "source": [
        "#### Chart - 5"
      ]
    },
    {
      "cell_type": "code",
      "execution_count": null,
      "metadata": {
        "colab": {
          "base_uri": "https://localhost:8080/",
          "height": 388
        },
        "id": "TIJwrbroYuh3",
        "outputId": "92085f04-0c78-42c9-dea1-3f859ffd1836"
      },
      "outputs": [
        {
          "data": {
            "image/png": "[encoded data removed]",
            "text/plain": [
              "<Figure size 720x432 with 1 Axes>"
            ]
          },
          "metadata": {},
          "output_type": "display_data"
        }
      ],
      "source": [
        "# What is the relationship between the longitude and latitude of the listings and their availability throughout the year?\n",
        "# Chart - 5 visualization code\n",
        "plt.figure(figsize=(10,6))\n",
        "sns.scatterplot(df.longitude,df.latitude,hue=df.availability_365)\n",
        "plt.ioff()"
      ]
    },
    {
      "cell_type": "markdown",
      "metadata": {
        "id": "QHF8YVU7Yuh3"
      },
      "source": [
        "##### 1. Why did you pick the specific chart?"
      ]
    },
    {
      "cell_type": "markdown",
      "metadata": {
        "id": "cRcOxE3QDjbe"
      },
      "source": [
        "I picked this specific chart because it allows for a clear visualization of the distribution of availability of Airbnb listings on a map, with the use of longitude and latitude coordinates. The hue parameter allows for the color of each point to represent the availability_365 feature, making it easy to see which areas have the highest and lowest availability. This chart can help identify potential hotspots for renting or areas with a high demand for rentals."
      ]
    },
    {
      "cell_type": "markdown",
      "metadata": {
        "id": "GwzvFGzlYuh3"
      },
      "source": [
        "##### 2. What is/are the insight(s) found from the chart?"
      ]
    },
    {
      "cell_type": "markdown",
      "metadata": {
        "id": "uyqkiB8YYuh3"
      },
      "source": [
        "The chart shows the distribution of Airbnb listings in terms of their longitude and latitude, with the color of each point representing the number of days in a year that the listing is available for booking (availability_365).\n",
        "\n",
        "Insight(s) found from the chart:\n",
        "\n",
        "There is a concentration of listings in certain areas, likely indicating popular tourist destinations or urban centers.\n",
        "\n",
        "There is a wide range of availability for listings, with some having high availability (shown in lighter colors) and others having low availability (shown in darker colors).\n",
        "\n",
        "There does not appear to be a clear correlation between longitude/latitude and availability, suggesting that factors such as listing type, location, and host preferences play a larger role in determining availability."
      ]
    },
    {
      "cell_type": "markdown",
      "metadata": {
        "id": "qYpmQ266Yuh3"
      },
      "source": [
        "##### 3. Will the gained insights help creating a positive business impact? \n",
        "Are there any insights that lead to negative growth? Justify with specific reason."
      ]
    },
    {
      "cell_type": "markdown",
      "metadata": {
        "id": "_WtzZ_hCYuh4"
      },
      "source": [
        "It is unclear from the provided information if the gained insights from the scatter plot will lead to a positive business impact. It will depend on the specific goals and objectives of the business and how the insights are applied.\n",
        "\n",
        "As for negative growth, it is also unclear without additional information. However, if the scatter plot shows a lack of available properties in a certain area, it could potentially lead to negative growth for the business if they are not able to fill those properties with renters. Additionally, if the scatter plot shows a high concentration of available properties in a certain area, it could lead to negative growth for the business if they are not able to attract renters due to high competition."
      ]
    },
    {
      "cell_type": "markdown",
      "metadata": {
        "id": "OH-pJp9IphqM"
      },
      "source": [
        "####Chart - 6"
      ]
    },
    {
      "cell_type": "code",
      "execution_count": null,
      "metadata": {
        "colab": {
          "base_uri": "https://localhost:8080/",
          "height": 358
        },
        "id": "tvSXLnuuEZTC",
        "outputId": "c8347d68-0f77-453f-cfa5-9315e8826525"
      },
      "outputs": [
        {
          "data": {
            "image/png": "[encoded data removed]",
            "text/plain": [
              "<Figure size 1584x576 with 1 Axes>"
            ]
          },
          "metadata": {},
          "output_type": "display_data"
        }
      ],
      "source": [
        "# What is the average Airbnb listing price by neighborhood group in the dataset?\n",
        "neighborhood_prices = df.groupby(\"neighbourhood_group\").mean()[\"price\"]\n",
        "neighborhood_prices\n",
        "# create a bar chart of the mean prices by neighborhood\n",
        "neighborhood_prices.plot(kind=\"bar\",figsize=(22,8))\n",
        "plt.xlabel(\"Neighborhood_group\")\n",
        "plt.ylabel(\"Mean Price\")\n",
        "plt.title(\"Mean Airbnb Listing Prices by Neighborhood\")\n",
        "plt.show()"
      ]
    },
    {
      "cell_type": "markdown",
      "metadata": {
        "id": "bbFf2-_FphqN"
      },
      "source": [
        "##### 1. Why did you pick the specific chart?"
      ]
    },
    {
      "cell_type": "markdown",
      "metadata": {
        "id": "loh7H2nzphqN"
      },
      "source": [
        "I picked a bar chart for this analysis because it is a clear and easy way to compare the mean prices of Airbnb listings across different neighborhood groups. The x-axis displays the neighborhood groups, and the y-axis displays the mean prices, making it easy for readers to understand and interpret the data. Additionally, the bar chart allows for a quick visual comparison of the mean prices between different neighborhood groups."
      ]
    },
    {
      "cell_type": "markdown",
      "metadata": {
        "id": "_ouA3fa0phqN"
      },
      "source": [
        "##### 2. What is/are the insight(s) found from the chart?"
      ]
    },
    {
      "cell_type": "markdown",
      "metadata": {
        "id": "VECbqPI7phqN"
      },
      "source": [
        "The insight found from the chart is that the neighborhood group with the highest mean Airbnb listing price is Manhattan, followed by Brooklyn, Queens, Bronx, and Staten Island. This indicates that Manhattan is the most expensive neighborhood group to stay in, while Staten Island is the least expensive."
      ]
    },
    {
      "cell_type": "markdown",
      "metadata": {
        "id": "Seke61FWphqN"
      },
      "source": [
        "##### 3. Will the gained insights help creating a positive business impact? \n",
        "Are there any insights that lead to negative growth? Justify with specific reason."
      ]
    },
    {
      "cell_type": "markdown",
      "metadata": {
        "id": "DW4_bGpfphqN"
      },
      "source": [
        "The gained insights from the bar chart of mean Airbnb listing prices by neighborhood can help create a positive business impact by providing an understanding of which neighborhoods have higher prices and which have lower prices. This information can be used to inform decisions about where to invest in new listings or where to focus marketing efforts. For example, if a host is looking to invest in a new listing, they may choose to invest in a neighborhood with a higher mean price as they may expect to see a higher return on investment.\n",
        "\n",
        "However, the insights may also lead to negative growth. For example, if a host is trying to increase the occupancy rate of their listings in a neighborhood with a lower mean price, they may need to lower their prices to be competitive with other listings in that area. This could lead to a reduction in revenue for the host. Additionally, if a host is looking to enter a new market, they may choose to avoid neighborhoods with high mean prices as the competition may be too fierce and it may be difficult to turn a profit."
      ]
    },
    {
      "cell_type": "markdown",
      "metadata": {
        "id": "PIIx-8_IphqN"
      },
      "source": [
        "#### Chart - 7"
      ]
    },
    {
      "cell_type": "code",
      "source": [
        "# Chart - 7 visualization code"
      ],
      "metadata": {
        "id": "xpp1puP3zne_"
      },
      "execution_count": null,
      "outputs": []
    },
    {
      "cell_type": "markdown",
      "metadata": {
        "id": "t27r6nlMphqO"
      },
      "source": [
        "##### 1. Why did you pick the specific chart?"
      ]
    },
    {
      "cell_type": "markdown",
      "metadata": {
        "id": "iv6ro40sphqO"
      },
      "source": [
        "\n",
        "\n"
      ]
    },
    {
      "cell_type": "markdown",
      "metadata": {
        "id": "r2jJGEOYphqO"
      },
      "source": [
        "##### 2. What is/are the insight(s) found from the chart?"
      ]
    },
    {
      "cell_type": "markdown",
      "metadata": {
        "id": "Po6ZPi4hphqO"
      },
      "source": [
        "\n",
        "\n",
        "\n"
      ]
    },
    {
      "cell_type": "markdown",
      "metadata": {
        "id": "b0JNsNcRphqO"
      },
      "source": [
        "##### 3. Will the gained insights help creating a positive business impact? \n",
        "Are there any insights that lead to negative growth? Justify with specific reason."
      ]
    },
    {
      "cell_type": "markdown",
      "metadata": {
        "id": "xvSq8iUTphqO"
      },
      "source": []
    },
    {
      "cell_type": "markdown",
      "metadata": {
        "id": "BZR9WyysphqO"
      },
      "source": [
        "#### Chart - 8"
      ]
    },
    {
      "cell_type": "code",
      "source": [
        "# Chart - 8 visualization code"
      ],
      "metadata": {
        "id": "OmUem9FCz1b6"
      },
      "execution_count": null,
      "outputs": []
    },
    {
      "cell_type": "markdown",
      "metadata": {
        "id": "jj7wYXLtphqO"
      },
      "source": [
        "##### 1. Why did you pick the specific chart?"
      ]
    },
    {
      "cell_type": "markdown",
      "metadata": {
        "id": "Ob8u6rCTphqO"
      },
      "source": []
    },
    {
      "cell_type": "markdown",
      "metadata": {
        "id": "eZrbJ2SmphqO"
      },
      "source": [
        "##### 2. What is/are the insight(s) found from the chart?"
      ]
    },
    {
      "cell_type": "markdown",
      "metadata": {
        "id": "mZtgC_hjphqO"
      },
      "source": []
    },
    {
      "cell_type": "markdown",
      "metadata": {
        "id": "rFu4xreNphqO"
      },
      "source": [
        "##### 3. Will the gained insights help creating a positive business impact? \n",
        "Are there any insights that lead to negative growth? Justify with specific reason."
      ]
    },
    {
      "cell_type": "markdown",
      "metadata": {
        "id": "ey_0qi68phqO"
      },
      "source": [
        "\n"
      ]
    },
    {
      "cell_type": "markdown",
      "metadata": {
        "id": "YJ55k-q6phqO"
      },
      "source": [
        "#### Chart - 9"
      ]
    },
    {
      "cell_type": "code",
      "source": [
        "# Chart - 9 visualization code"
      ],
      "metadata": {
        "id": "3C9KEPhu0FG_"
      },
      "execution_count": null,
      "outputs": []
    },
    {
      "cell_type": "markdown",
      "metadata": {
        "id": "gCFgpxoyphqP"
      },
      "source": [
        "##### 1. Why did you pick the specific chart?"
      ]
    },
    {
      "cell_type": "markdown",
      "metadata": {
        "id": "TVxDimi2phqP"
      },
      "source": []
    },
    {
      "cell_type": "markdown",
      "metadata": {
        "id": "OVtJsKN_phqQ"
      },
      "source": [
        "##### 2. What is/are the insight(s) found from the chart?"
      ]
    },
    {
      "cell_type": "markdown",
      "metadata": {
        "id": "ngGi97qjphqQ"
      },
      "source": []
    },
    {
      "cell_type": "markdown",
      "metadata": {
        "id": "lssrdh5qphqQ"
      },
      "source": [
        "##### 3. Will the gained insights help creating a positive business impact? \n",
        "Are there any insights that lead to negative growth? Justify with specific reason."
      ]
    },
    {
      "cell_type": "markdown",
      "metadata": {
        "id": "tBpY5ekJphqQ"
      },
      "source": []
    },
    {
      "cell_type": "markdown",
      "metadata": {
        "id": "U2RJ9gkRphqQ"
      },
      "source": [
        "#### Chart - 10"
      ]
    },
    {
      "cell_type": "code",
      "source": [
        "# Chart - 10 visualization code"
      ],
      "metadata": {
        "id": "Ue2PhBAV0PUV"
      },
      "execution_count": null,
      "outputs": []
    },
    {
      "cell_type": "markdown",
      "metadata": {
        "id": "1M8mcRywphqQ"
      },
      "source": [
        "##### 1. Why did you pick the specific chart?"
      ]
    },
    {
      "cell_type": "markdown",
      "metadata": {
        "id": "8agQvks0phqQ"
      },
      "source": []
    },
    {
      "cell_type": "markdown",
      "metadata": {
        "id": "tgIPom80phqQ"
      },
      "source": [
        "##### 2. What is/are the insight(s) found from the chart?"
      ]
    },
    {
      "cell_type": "markdown",
      "metadata": {
        "id": "Qp13pnNzphqQ"
      },
      "source": []
    },
    {
      "cell_type": "markdown",
      "metadata": {
        "id": "JMzcOPDDphqR"
      },
      "source": [
        "##### 3. Will the gained insights help creating a positive business impact? \n",
        "Are there any insights that lead to negative growth? Justify with specific reason."
      ]
    },
    {
      "cell_type": "markdown",
      "metadata": {
        "id": "R4Ka1PC2phqR"
      },
      "source": [
        "\n"
      ]
    },
    {
      "cell_type": "markdown",
      "metadata": {
        "id": "x-EpHcCOp1ci"
      },
      "source": [
        "#### Chart - 11"
      ]
    },
    {
      "cell_type": "code",
      "source": [
        "# Chart - 11 visualization code"
      ],
      "metadata": {
        "id": "5j_oTzc70bgx"
      },
      "execution_count": null,
      "outputs": []
    },
    {
      "cell_type": "markdown",
      "metadata": {
        "id": "X_VqEhTip1ck"
      },
      "source": [
        "##### 1. Why did you pick the specific chart?"
      ]
    },
    {
      "cell_type": "markdown",
      "metadata": {
        "id": "-vsMzt_np1ck"
      },
      "source": [
        "\n",
        "\n"
      ]
    },
    {
      "cell_type": "markdown",
      "metadata": {
        "id": "8zGJKyg5p1ck"
      },
      "source": [
        "##### 2. What is/are the insight(s) found from the chart?"
      ]
    },
    {
      "cell_type": "markdown",
      "metadata": {
        "id": "ZYdMsrqVp1ck"
      },
      "source": []
    },
    {
      "cell_type": "markdown",
      "metadata": {
        "id": "PVzmfK_Ep1ck"
      },
      "source": [
        "##### 3. Will the gained insights help creating a positive business impact? \n",
        "Are there any insights that lead to negative growth? Justify with specific reason."
      ]
    },
    {
      "cell_type": "markdown",
      "metadata": {
        "id": "druuKYZpp1ck"
      },
      "source": [
        "\n"
      ]
    },
    {
      "cell_type": "markdown",
      "metadata": {
        "id": "n3dbpmDWp1ck"
      },
      "source": [
        "#### Chart - 12"
      ]
    },
    {
      "cell_type": "code",
      "source": [
        "# Chart -12 visualization code"
      ],
      "metadata": {
        "id": "-xeaqdl50uoZ"
      },
      "execution_count": null,
      "outputs": []
    },
    {
      "cell_type": "markdown",
      "metadata": {
        "id": "ylSl6qgtp1ck"
      },
      "source": [
        "##### 1. Why did you pick the specific chart?"
      ]
    },
    {
      "cell_type": "markdown",
      "metadata": {
        "id": "m2xqNkiQp1ck"
      },
      "source": []
    },
    {
      "cell_type": "markdown",
      "metadata": {
        "id": "ZWILFDl5p1ck"
      },
      "source": [
        "##### 2. What is/are the insight(s) found from the chart?"
      ]
    },
    {
      "cell_type": "markdown",
      "metadata": {
        "id": "x-lUsV2mp1ck"
      },
      "source": []
    },
    {
      "cell_type": "markdown",
      "metadata": {
        "id": "M7G43BXep1ck"
      },
      "source": [
        "##### 3. Will the gained insights help creating a positive business impact? \n",
        "Are there any insights that lead to negative growth? Justify with specific reason."
      ]
    },
    {
      "cell_type": "markdown",
      "metadata": {
        "id": "5wwDJXsLp1cl"
      },
      "source": []
    },
    {
      "cell_type": "markdown",
      "metadata": {
        "id": "Ag9LCva-p1cl"
      },
      "source": [
        "#### Chart - 13"
      ]
    },
    {
      "cell_type": "code",
      "source": [
        "# Chart -13 visualization code"
      ],
      "metadata": {
        "id": "AKF8dpPw0-UQ"
      },
      "execution_count": null,
      "outputs": []
    },
    {
      "cell_type": "markdown",
      "metadata": {
        "id": "E6MkPsBcp1cl"
      },
      "source": [
        "##### 1. Why did you pick the specific chart?"
      ]
    },
    {
      "cell_type": "markdown",
      "metadata": {
        "id": "V22bRsFWp1cl"
      },
      "source": []
    },
    {
      "cell_type": "markdown",
      "metadata": {
        "id": "2cELzS2fp1cl"
      },
      "source": [
        "##### 2. What is/are the insight(s) found from the chart?"
      ]
    },
    {
      "cell_type": "markdown",
      "metadata": {
        "id": "ozQPc2_Ip1cl"
      },
      "source": []
    },
    {
      "cell_type": "markdown",
      "metadata": {
        "id": "3MPXvC8up1cl"
      },
      "source": [
        "##### 3. Will the gained insights help creating a positive business impact? \n",
        "Are there any insights that lead to negative growth? Justify with specific reason."
      ]
    },
    {
      "cell_type": "markdown",
      "metadata": {
        "id": "GL8l1tdLp1cl"
      },
      "source": []
    },
    {
      "cell_type": "markdown",
      "metadata": {
        "id": "NC_X3p0fY2L0"
      },
      "source": [
        "#### Chart - 14 - Correlation Heatmap"
      ]
    },
    {
      "cell_type": "code",
      "source": [
        "# Chart -14 visualization code"
      ],
      "metadata": {
        "id": "oLBvqpoP1m8z"
      },
      "execution_count": null,
      "outputs": []
    },
    {
      "cell_type": "markdown",
      "source": [
        "##### 1. Why did you pick the specific chart?"
      ],
      "metadata": {
        "id": "ZQ8jZkwg1ZNQ"
      }
    },
    {
      "cell_type": "markdown",
      "metadata": {
        "id": "DVPuT8LYZNRQ"
      },
      "source": []
    },
    {
      "cell_type": "markdown",
      "metadata": {
        "id": "YPEH6qLeZNRQ"
      },
      "source": [
        "##### 2. What is/are the insight(s) found from the chart?"
      ]
    },
    {
      "cell_type": "markdown",
      "metadata": {
        "id": "bfSqtnDqZNRR"
      },
      "source": []
    },
    {
      "cell_type": "markdown",
      "metadata": {
        "id": "q29F0dvdveiT"
      },
      "source": [
        "#### Chart - 15 - Pair Plot "
      ]
    },
    {
      "cell_type": "code",
      "source": [
        "# Chart -15 visualization code"
      ],
      "metadata": {
        "id": "IVf2Xllv1zOP"
      },
      "execution_count": null,
      "outputs": []
    },
    {
      "cell_type": "markdown",
      "metadata": {
        "id": "EXh0U9oCveiU"
      },
      "source": [
        "##### 1. Why did you pick the specific chart?"
      ]
    },
    {
      "cell_type": "markdown",
      "metadata": {
        "id": "eMmPjTByveiU"
      },
      "source": []
    },
    {
      "cell_type": "markdown",
      "metadata": {
        "id": "22aHeOlLveiV"
      },
      "source": [
        "##### 2. What is/are the insight(s) found from the chart?"
      ]
    },
    {
      "cell_type": "markdown",
      "metadata": {
        "id": "uPQ8RGwHveiV"
      },
      "source": [
        "\n"
      ]
    },
    {
      "cell_type": "markdown",
      "metadata": {
        "id": "JcMwzZxoAimU"
      },
      "source": [
        "## **5. Solution to Business Objective**"
      ]
    },
    {
      "cell_type": "markdown",
      "metadata": {
        "id": "8G2x9gOozGDZ"
      },
      "source": [
        "#### What do you suggest the client to achieve Business Objective ? \n",
        "Explain Briefly."
      ]
    },
    {
      "cell_type": "markdown",
      "metadata": {
        "id": "pASKb0qOza21"
      },
      "source": []
    },
    {
      "cell_type": "markdown",
      "metadata": {
        "id": "gCX9965dhzqZ"
      },
      "source": [
        "# **Conclusion**"
      ]
    },
    {
      "cell_type": "markdown",
      "metadata": {
        "id": "Fjb1IsQkh3yE"
      },
      "source": []
    },
    {
      "cell_type": "markdown",
      "metadata": {
        "id": "gIfDvo9L0UH2"
      },
      "source": [
        "### ***Hurrah! You have successfully completed your EDA Capstone Project !!!***"
      ]
    }
  ],
  "metadata": {
    "accelerator": "TPU",
    "colab": {
      "collapsed_sections": [
        "gIfDvo9L0UH2"
      ],
      "provenance": [],
      "include_colab_link": true
    },
    "gpuClass": "standard",
    "kernelspec": {
      "display_name": "Python 3",
      "name": "python3"
    },
    "language_info": {
      "name": "python"
    }
  },
  "nbformat": 4,
  "nbformat_minor": 0
}